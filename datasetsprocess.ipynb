{
 "cells": [
  {
   "cell_type": "markdown",
   "id": "universal-occasion",
   "metadata": {},
   "source": [
    "## 資料集資訊"
   ]
  },
  {
   "cell_type": "code",
   "execution_count": null,
   "id": "engaged-scheme",
   "metadata": {},
   "outputs": [],
   "source": [
    "os.listdir('/Users/chiehfang/Desktop/Cancer_Detection/histopathologic-cancer-detection')"
   ]
  },
  {
   "cell_type": "code",
   "execution_count": null,
   "id": "domestic-prisoner",
   "metadata": {},
   "outputs": [],
   "source": [
    "print(len(os.listdir('/Users/chiehfang/Desktop/Cancer_Detection/histopathologic-cancer-detection/train')))\n",
    "print(len(os.listdir('/Users/chiehfang/Desktop/Cancer_Detection/histopathologic-cancer-detection/test')))"
   ]
  },
  {
   "cell_type": "markdown",
   "id": "biological-capitol",
   "metadata": {},
   "source": [
    "## 數據前處理"
   ]
  },
  {
   "cell_type": "code",
   "execution_count": null,
   "id": "graphic-fiber",
   "metadata": {},
   "outputs": [],
   "source": [
    "df_data = pd.read_csv('/Users/chiehfang/Desktop/Histopathologic-cancer-detection/train_labels.csv')\n",
    "\n",
    "df_data['label'].value_counts()"
   ]
  },
  {
   "cell_type": "code",
   "execution_count": null,
   "id": "comparative-foster",
   "metadata": {},
   "outputs": [],
   "source": [
    "df_tumor = df_data[df_data['label']==1]\n",
    "df_tumor.shape"
   ]
  },
  {
   "cell_type": "markdown",
   "id": "sought-detection",
   "metadata": {},
   "source": [
    "### 數據清洗函式"
   ]
  },
  {
   "cell_type": "code",
   "execution_count": null,
   "id": "after-italian",
   "metadata": {},
   "outputs": [],
   "source": [
    "def badimg_detect(filename):\n",
    "    badimg = cv2.imread(filename)\n",
    "    badimg = cv2.cvtColor(badimg, cv2.COLOR_BGR2GRAY)\n",
    "    imgcenter = np.array(badimg[32:64,32:64])\n",
    "    ret,thresh1 = cv2.threshold(imgcenter,180,255,cv2.THRESH_BINARY)\n",
    "    white = np.where(thresh1[:]>250)\n",
    "    whitenum = (white[0].shape)[0]\n",
    "    whiteratio = whitenum/(32*32)\n",
    "    return whiteratio"
   ]
  },
  {
   "cell_type": "code",
   "execution_count": null,
   "id": "human-istanbul",
   "metadata": {},
   "outputs": [],
   "source": [
    "tumor_list = list(df_tumor['id'])\n",
    "badimgs = []\n",
    "count = 0\n",
    "for tumorimg in tumor_list:\n",
    "    whiteratio = badimg_detect(os.path.join('/Users/chiehfang/Desktop/Cancer_Detection/histopathologic-cancer-detection-datasets-training/train',tumorimg+'.tif'))\n",
    "    count+=1  \n",
    "    if whiteratio >0.95:\n",
    "        badimgs.append(tumorimg)   \n",
    "print('total:',count)\n",
    "print('badimg:',len(badimgs))"
   ]
  },
  {
   "cell_type": "code",
   "execution_count": null,
   "id": "touched-blood",
   "metadata": {},
   "outputs": [],
   "source": []
  },
  {
   "cell_type": "code",
   "execution_count": null,
   "id": "harmful-cooper",
   "metadata": {},
   "outputs": [],
   "source": [
    "# Creating a dataframe of all the training images\n",
    "\n",
    "df_data = pd.read_csv('/Users/chiehfang/Desktop/Cancer_Detection/histopathologic-cancer-detection/train_labels.csv')\n",
    "\n",
    "# removing this image because it caused a training error previously\n",
    "df_data = df_data[df_data['id'] != 'dd6dfed324f9fcb6f93f46f32fc800f2ec196be2']\n",
    "\n",
    "# removing this image because it's black\n",
    "df_data = df_data[df_data['id'] != '9369c7278ec8bcc6c880d99194de09fc2bd4efbe']\n",
    "\n",
    "# removing this image because it's center are empty\n",
    "for badimg in badimgs:\n",
    "    df_data = df_data[df_data['id'] != badimg]\n",
    "\n",
    "\n",
    "print(df_data.shape)"
   ]
  },
  {
   "cell_type": "code",
   "execution_count": null,
   "id": "pregnant-demographic",
   "metadata": {},
   "outputs": [],
   "source": [
    "df_data['label'].value_counts()"
   ]
  },
  {
   "cell_type": "code",
   "execution_count": null,
   "id": "consecutive-honor",
   "metadata": {},
   "outputs": [],
   "source": [
    "print(df_data.head())"
   ]
  },
  {
   "cell_type": "markdown",
   "id": "alive-knock",
   "metadata": {},
   "source": [
    "## 建立使用資料集"
   ]
  },
  {
   "cell_type": "code",
   "execution_count": null,
   "id": "genetic-porcelain",
   "metadata": {},
   "outputs": [],
   "source": [
    "#### Create the Train and Validation Sets\n",
    "\n",
    "df_0 = df_data[df_data['label']==0].sample(SAMPLE_SIZE,random_state=101)\n",
    "df_1 = df_data[df_data['label']==1].sample(SAMPLE_SIZE,random_state=101)\n",
    "\n",
    "# concat the dataframes\n",
    "df_data = pd.concat([df_0, df_1], axis=0).reset_index(drop=True)\n",
    "# shuffle\n",
    "df_data = shuffle(df_data)\n",
    "\n",
    "df_data['label'].value_counts()"
   ]
  },
  {
   "cell_type": "code",
   "execution_count": null,
   "id": "dynamic-surname",
   "metadata": {},
   "outputs": [],
   "source": [
    "# Now, for the train-test split\n",
    "\n",
    "# stratify=y creates a balanced validation set.\n",
    "y = df_data['label']\n",
    "\n",
    "df_train, df_val = train_test_split(df_data, test_size=0.10, random_state=101, stratify=y)\n",
    "\n",
    "print(df_train.shape)\n",
    "print(df_val.shape)"
   ]
  },
  {
   "cell_type": "markdown",
   "id": "involved-samoa",
   "metadata": {},
   "source": [
    "### 資料存放結構"
   ]
  },
  {
   "cell_type": "code",
   "execution_count": null,
   "id": "expensive-equation",
   "metadata": {},
   "outputs": [],
   "source": [
    "# Create a new directory so that we will be using the ImageDataGenerator\n",
    "base_dir='/Users/chiehfang/Desktop/Cancer_Detection/histopathologic-cancer-detection/base_dir'\n",
    "os.mkdir(base_dir)\n",
    "\n",
    "train_dir = os.path.join(base_dir, 'train_dir')\n",
    "os.mkdir(train_dir)\n",
    "no_tumor_tissue = os.path.join(train_dir, 'a_no_tumor_tissue')\n",
    "os.mkdir(no_tumor_tissue)\n",
    "has_tumor_tissue = os.path.join(train_dir, 'b_has_tumor_tissue')\n",
    "os.mkdir(has_tumor_tissue)\n",
    "\n",
    "\n",
    "val_dir = os.path.join(base_dir, 'val_dir')\n",
    "os.mkdir(val_dir)\n",
    "no_tumor_tissue = os.path.join(val_dir, 'a_no_tumor_tissue')\n",
    "os.mkdir(no_tumor_tissue)\n",
    "has_tumor_tissue = os.path.join(val_dir, 'b_has_tumor_tissue')\n",
    "os.mkdir(has_tumor_tissue)"
   ]
  },
  {
   "cell_type": "code",
   "execution_count": null,
   "id": "comparable-uncle",
   "metadata": {},
   "outputs": [],
   "source": [
    "# check that the folders have been created\n",
    "os.listdir('/Users/chiehfang/Desktop/Cancer_Detection/histopathologic-cancer-detection/base_dir/train_dir')"
   ]
  },
  {
   "cell_type": "code",
   "execution_count": null,
   "id": "secondary-greece",
   "metadata": {},
   "outputs": [],
   "source": [
    "# Set the id as the index in df_data\n",
    "df_data.set_index('id', inplace=True)"
   ]
  },
  {
   "cell_type": "markdown",
   "id": "accredited-woman",
   "metadata": {},
   "source": []
  },
  {
   "cell_type": "code",
   "execution_count": null,
   "id": "mineral-salvation",
   "metadata": {},
   "outputs": [],
   "source": [
    "# Get a list of train and val images\n",
    "train_list = list(df_train['id'])\n",
    "\n",
    "countt=1\n",
    "\n",
    "# Transfer the train images\n",
    "\n",
    "for image in train_list:\n",
    "    \n",
    "    # the id in the csv file does not have the .tif extension therefore we add it here\n",
    "    fname = image + '.tif'\n",
    "    # get the label for a certain image\n",
    "    target = df_data.loc[image,'label']\n",
    "    \n",
    "    if countt %1000 ==0:\n",
    "        print(countt)\n",
    "    # these must match the folder names\n",
    "    if target == 0:\n",
    "        label = 'a_no_tumor_tissue'\n",
    "    if target == 1:\n",
    "        label = 'b_has_tumor_tissue'\n",
    "    \n",
    "    # source path to image\n",
    "    src = os.path.join('/Users/chiehfang/Desktop/Cancer_Detection/histopathologic-cancer-detection/train', fname)\n",
    "    img = cv2.imread(src,cv2.IMREAD_COLOR)\n",
    "    cropimg = img[32:64,32:64]\n",
    "    \n",
    "    # destination path to image\n",
    "    dst = os.path.join(train_dir, label, fname)\n",
    "    cv2.imwrite(dst,cv2.cvtColor(cropimg, cv2.COLOR_BGR2RGB))\n",
    "    \n",
    "    countt=countt+1"
   ]
  },
  {
   "cell_type": "raw",
   "id": "suspected-massage",
   "metadata": {},
   "source": [
    "    # source path to image\n",
    "    src = os.path.join('/Users/chiehfang/Desktop/Cancer Detection/histopathologic-cancer-detection/train', fname)\n",
    "    # destination path to image\n",
    "    dst = os.path.join(train_dir, label, fname)\n",
    "    # copy the image from the source to the destination\n",
    "    shutil.copyfile(src, dst)"
   ]
  },
  {
   "cell_type": "code",
   "execution_count": null,
   "id": "loved-cable",
   "metadata": {},
   "outputs": [],
   "source": [
    "val_list = list(df_val['id'])\n",
    "# Transfer the val images\n",
    "count=1\n",
    "for image in val_list:\n",
    "    \n",
    "    # the id in the csv file does not have the .tif extension therefore we add it here\n",
    "    fname = image + '.tif'\n",
    "    # get the label for a certain image\n",
    "    target = df_data.loc[image,'label']\n",
    "    \n",
    "    if count %1000 ==0:\n",
    "        print(count)\n",
    "    \n",
    "    # these must match the folder names\n",
    "    if target == 0:\n",
    "        label = 'a_no_tumor_tissue'\n",
    "    if target == 1:\n",
    "        label = 'b_has_tumor_tissue'\n",
    "    \n",
    "    # source path to image\n",
    "    src = os.path.join('/Users/chiehfang/Desktop/Cancer_Detection/histopathologic-cancer-detection/train', fname)\n",
    "    img = cv2.imread(src,cv2.IMREAD_COLOR)\n",
    "    cropimg = img[32:64,32:64]\n",
    "    \n",
    "    # destination path to image\n",
    "    dst = os.path.join(val_dir, label, fname)\n",
    "    cv2.imwrite(dst,cv2.cvtColor(cropimg, cv2.COLOR_BGR2RGB))\n",
    "\n",
    "    count=count+1"
   ]
  },
  {
   "cell_type": "raw",
   "id": "entertaining-checklist",
   "metadata": {},
   "source": [
    "    # source path to image\n",
    "    src = os.path.join('/Users/chiehfang/Desktop/Cancer Detection/histopathologic-cancer-detection/train', fname)\n",
    "    # destination path to image\n",
    "    dst = os.path.join(val_dir, label, fname)\n",
    "    # copy the image from the source to the destination\n",
    "    shutil.copyfile(src, dst)"
   ]
  },
  {
   "cell_type": "markdown",
   "id": "great-syndrome",
   "metadata": {},
   "source": [
    "### 處理後資料集資訊"
   ]
  },
  {
   "cell_type": "code",
   "execution_count": null,
   "id": "false-buddy",
   "metadata": {},
   "outputs": [],
   "source": [
    "# check how many train images we have in each folder\n",
    "\n",
    "print(len(os.listdir('/Users/chiehfang/Desktop/Cancer_Detection/histopathologic-cancer-detection/base_dir_v1/train_dir/a_no_tumor_tissue')))\n",
    "print(len(os.listdir('/Users/chiehfang/Desktop/Cancer_Detection/histopathologic-cancer-detection/base_dir_v1/train_dir/b_has_tumor_tissue')))"
   ]
  },
  {
   "cell_type": "code",
   "execution_count": null,
   "id": "russian-proxy",
   "metadata": {},
   "outputs": [],
   "source": [
    "# check how many val images we have in each folder\n",
    "\n",
    "print(len(os.listdir('/Users/chiehfang/Desktop/Cancer_Detection/histopathologic-cancer-detection/base_dir_v1/val_dir/a_no_tumor_tissue')))\n",
    "print(len(os.listdir('/Users/chiehfang/Desktop/Cancer_Detection/histopathologic-cancer-detection/base_dir_v1/val_dir/b_has_tumor_tissue')))"
   ]
  }
 ],
 "metadata": {
  "kernelspec": {
   "display_name": "Python 3",
   "language": "python",
   "name": "python3"
  },
  "language_info": {
   "codemirror_mode": {
    "name": "ipython",
    "version": 3
   },
   "file_extension": ".py",
   "mimetype": "text/x-python",
   "name": "python",
   "nbconvert_exporter": "python",
   "pygments_lexer": "ipython3",
   "version": "3.8.8"
  }
 },
 "nbformat": 4,
 "nbformat_minor": 5
}
